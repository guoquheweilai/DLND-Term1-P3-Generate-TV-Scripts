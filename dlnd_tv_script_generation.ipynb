{
 "cells": [
  {
   "cell_type": "markdown",
   "metadata": {},
   "source": [
    "# TV Script Generation\n",
    "In this project, you'll generate your own [Simpsons](https://en.wikipedia.org/wiki/The_Simpsons) TV scripts using RNNs.  You'll be using part of the [Simpsons dataset](https://www.kaggle.com/wcukierski/the-simpsons-by-the-data) of scripts from 27 seasons.  The Neural Network you'll build will generate a new TV script for a scene at [Moe's Tavern](https://simpsonswiki.com/wiki/Moe's_Tavern).\n",
    "## Get the Data\n",
    "The data is already provided for you.  You'll be using a subset of the original dataset.  It consists of only the scenes in Moe's Tavern.  This doesn't include other versions of the tavern, like \"Moe's Cavern\", \"Flaming Moe's\", \"Uncle Moe's Family Feed-Bag\", etc.."
   ]
  },
  {
   "cell_type": "code",
   "execution_count": 1,
   "metadata": {},
   "outputs": [],
   "source": [
    "\"\"\"\n",
    "DON'T MODIFY ANYTHING IN THIS CELL\n",
    "\"\"\"\n",
    "import helper\n",
    "\n",
    "data_dir = './data/simpsons/moes_tavern_lines.txt'\n",
    "text = helper.load_data(data_dir)\n",
    "# Ignore notice, since we don't use it for analysing the data\n",
    "text = text[81:]"
   ]
  },
  {
   "cell_type": "markdown",
   "metadata": {},
   "source": [
    "## Explore the Data\n",
    "Play around with `view_sentence_range` to view different parts of the data."
   ]
  },
  {
   "cell_type": "code",
   "execution_count": 2,
   "metadata": {},
   "outputs": [
    {
     "name": "stdout",
     "output_type": "stream",
     "text": [
      "Dataset Stats\n",
      "Roughly the number of unique words: 11492\n",
      "Number of scenes: 262\n",
      "Average number of sentences in each scene: 15.248091603053435\n",
      "Number of lines: 4257\n",
      "Average number of words in each line: 11.50434578341555\n",
      "\n",
      "The sentences 0 to 10:\n",
      "Moe_Szyslak: (INTO PHONE) Moe's Tavern. Where the elite meet to drink.\n",
      "Bart_Simpson: Eh, yeah, hello, is Mike there? Last name, Rotch.\n",
      "Moe_Szyslak: (INTO PHONE) Hold on, I'll check. (TO BARFLIES) Mike Rotch. Mike Rotch. Hey, has anybody seen Mike Rotch, lately?\n",
      "Moe_Szyslak: (INTO PHONE) Listen you little puke. One of these days I'm gonna catch you, and I'm gonna carve my name on your back with an ice pick.\n",
      "Moe_Szyslak: What's the matter Homer? You're not your normal effervescent self.\n",
      "Homer_Simpson: I got my problems, Moe. Give me another one.\n",
      "Moe_Szyslak: Homer, hey, you should not drink to forget your problems.\n",
      "Barney_Gumble: Yeah, you should only drink to enhance your social skills.\n",
      "\n",
      "\n"
     ]
    }
   ],
   "source": [
    "view_sentence_range = (0, 10)\n",
    "\n",
    "\"\"\"\n",
    "DON'T MODIFY ANYTHING IN THIS CELL\n",
    "\"\"\"\n",
    "import numpy as np\n",
    "\n",
    "print('Dataset Stats')\n",
    "print('Roughly the number of unique words: {}'.format(len({word: None for word in text.split()})))\n",
    "scenes = text.split('\\n\\n')\n",
    "print('Number of scenes: {}'.format(len(scenes)))\n",
    "sentence_count_scene = [scene.count('\\n') for scene in scenes]\n",
    "print('Average number of sentences in each scene: {}'.format(np.average(sentence_count_scene)))\n",
    "\n",
    "sentences = [sentence for scene in scenes for sentence in scene.split('\\n')]\n",
    "print('Number of lines: {}'.format(len(sentences)))\n",
    "word_count_sentence = [len(sentence.split()) for sentence in sentences]\n",
    "print('Average number of words in each line: {}'.format(np.average(word_count_sentence)))\n",
    "\n",
    "print()\n",
    "print('The sentences {} to {}:'.format(*view_sentence_range))\n",
    "print('\\n'.join(text.split('\\n')[view_sentence_range[0]:view_sentence_range[1]]))"
   ]
  },
  {
   "cell_type": "markdown",
   "metadata": {},
   "source": [
    "## Implement Preprocessing Functions\n",
    "The first thing to do to any dataset is preprocessing.  Implement the following preprocessing functions below:\n",
    "- Lookup Table\n",
    "- Tokenize Punctuation\n",
    "\n",
    "### Lookup Table\n",
    "To create a word embedding, you first need to transform the words to ids.  In this function, create two dictionaries:\n",
    "- Dictionary to go from the words to an id, we'll call `vocab_to_int`\n",
    "- Dictionary to go from the id to word, we'll call `int_to_vocab`\n",
    "\n",
    "Return these dictionaries in the following tuple `(vocab_to_int, int_to_vocab)`"
   ]
  },
  {
   "cell_type": "code",
   "execution_count": 3,
   "metadata": {},
   "outputs": [
    {
     "name": "stdout",
     "output_type": "stream",
     "text": [
      "Tests Passed\n"
     ]
    }
   ],
   "source": [
    "import numpy as np\n",
    "import problem_unittests as tests\n",
    "\n",
    "def create_lookup_tables(text):\n",
    "    \"\"\"\n",
    "    Create lookup tables for vocabulary\n",
    "    :param text: The text of tv scripts split into words\n",
    "    :return: A tuple of dicts (vocab_to_int, int_to_vocab)\n",
    "    \"\"\"\n",
    "    # TODO: Implement Function\n",
    "    vocab_to_int = {}\n",
    "    int_to_vocab = {}\n",
    "    \n",
    "    sorted_text = sorted(set(text))\n",
    "    vocab_to_int = {vocab:counter for counter, vocab in enumerate(sorted_text)}\n",
    "    int_to_vocab = dict(enumerate(sorted_text))\n",
    "    \n",
    "    return (vocab_to_int, int_to_vocab)\n",
    "#     vocab = set(text)\n",
    "#     # Use comprenhension lists to build our dictionaries.\n",
    "#     vocab_to_int = {word:idx for idx, word in enumerate(vocab)}\n",
    "#     int_to_vocab = {idx:word for idx, word in enumerate(vocab)}\n",
    "#     return (vocab_to_int, int_to_vocab)\n",
    "\n",
    "\n",
    "\"\"\"\n",
    "DON'T MODIFY ANYTHING IN THIS CELL THAT IS BELOW THIS LINE\n",
    "\"\"\"\n",
    "tests.test_create_lookup_tables(create_lookup_tables)"
   ]
  },
  {
   "cell_type": "markdown",
   "metadata": {},
   "source": [
    "### Tokenize Punctuation\n",
    "We'll be splitting the script into a word array using spaces as delimiters.  However, punctuations like periods and exclamation marks make it hard for the neural network to distinguish between the word \"bye\" and \"bye!\".\n",
    "\n",
    "Implement the function `token_lookup` to return a dict that will be used to tokenize symbols like \"!\" into \"||Exclamation_Mark||\".  Create a dictionary for the following symbols where the symbol is the key and value is the token:\n",
    "- Period ( . )\n",
    "- Comma ( , )\n",
    "- Quotation Mark ( \" )\n",
    "- Semicolon ( ; )\n",
    "- Exclamation mark ( ! )\n",
    "- Question mark ( ? )\n",
    "- Left Parentheses ( ( )\n",
    "- Right Parentheses ( ) )\n",
    "- Dash ( -- )\n",
    "- Return ( \\n )\n",
    "\n",
    "This dictionary will be used to token the symbols and add the delimiter (space) around it.  This separates the symbols as it's own word, making it easier for the neural network to predict on the next word. Make sure you don't use a token that could be confused as a word. Instead of using the token \"dash\", try using something like \"||dash||\"."
   ]
  },
  {
   "cell_type": "code",
   "execution_count": 4,
   "metadata": {},
   "outputs": [
    {
     "name": "stdout",
     "output_type": "stream",
     "text": [
      "Tests Passed\n"
     ]
    }
   ],
   "source": [
    "def token_lookup():\n",
    "    \"\"\"\n",
    "    Generate a dict to turn punctuation into a token.\n",
    "    :return: Tokenize dictionary where the key is the punctuation and the value is the token\n",
    "    \"\"\"\n",
    "    # TODO: Implement Function\n",
    "    token_to_string = {\n",
    "        '.' : '||Period||',\n",
    "        ',' : '||Comma||',\n",
    "        '\"' : '||Quotation_Mark||',\n",
    "        ';' : '||Semicolon||',\n",
    "        '!' : '||Exclamation_Mark||',\n",
    "        '?' : '||Question_Mark||',\n",
    "        '(' : '||Left_Parentheses||',\n",
    "        ')' : '||Right_Parentheses||',\n",
    "        '--' : '||Dash||',\n",
    "        '\\n' : '||Return||'\n",
    "    }\n",
    "    return token_to_string\n",
    "\n",
    "\"\"\"\n",
    "DON'T MODIFY ANYTHING IN THIS CELL THAT IS BELOW THIS LINE\n",
    "\"\"\"\n",
    "tests.test_tokenize(token_lookup)"
   ]
  },
  {
   "cell_type": "markdown",
   "metadata": {},
   "source": [
    "## Preprocess all the data and save it\n",
    "Running the code cell below will preprocess all the data and save it to file."
   ]
  },
  {
   "cell_type": "code",
   "execution_count": 5,
   "metadata": {},
   "outputs": [],
   "source": [
    "\"\"\"\n",
    "DON'T MODIFY ANYTHING IN THIS CELL\n",
    "\"\"\"\n",
    "# Preprocess Training, Validation, and Testing Data\n",
    "helper.preprocess_and_save_data(data_dir, token_lookup, create_lookup_tables)"
   ]
  },
  {
   "cell_type": "markdown",
   "metadata": {},
   "source": [
    "# Check Point\n",
    "This is your first checkpoint. If you ever decide to come back to this notebook or have to restart the notebook, you can start from here. The preprocessed data has been saved to disk."
   ]
  },
  {
   "cell_type": "code",
   "execution_count": 6,
   "metadata": {},
   "outputs": [],
   "source": [
    "\"\"\"\n",
    "DON'T MODIFY ANYTHING IN THIS CELL\n",
    "\"\"\"\n",
    "import helper\n",
    "import numpy as np\n",
    "import problem_unittests as tests\n",
    "\n",
    "int_text, vocab_to_int, int_to_vocab, token_dict = helper.load_preprocess()"
   ]
  },
  {
   "cell_type": "markdown",
   "metadata": {},
   "source": [
    "## Build the Neural Network\n",
    "You'll build the components necessary to build a RNN by implementing the following functions below:\n",
    "- get_inputs\n",
    "- get_init_cell\n",
    "- get_embed\n",
    "- build_rnn\n",
    "- build_nn\n",
    "- get_batches\n",
    "\n",
    "### Check the Version of TensorFlow and Access to GPU"
   ]
  },
  {
   "cell_type": "code",
   "execution_count": 7,
   "metadata": {},
   "outputs": [
    {
     "name": "stdout",
     "output_type": "stream",
     "text": [
      "TensorFlow Version: 1.0.0\n"
     ]
    },
    {
     "name": "stderr",
     "output_type": "stream",
     "text": [
      "C:\\Users\\ikc\\Anaconda3\\envs\\dlnd\\lib\\site-packages\\ipykernel_launcher.py:14: UserWarning: No GPU found. Please use a GPU to train your neural network.\n",
      "  \n"
     ]
    }
   ],
   "source": [
    "\"\"\"\n",
    "DON'T MODIFY ANYTHING IN THIS CELL\n",
    "\"\"\"\n",
    "from distutils.version import LooseVersion\n",
    "import warnings\n",
    "import tensorflow as tf\n",
    "\n",
    "# Check TensorFlow Version\n",
    "assert LooseVersion(tf.__version__) >= LooseVersion('1.0'), 'Please use TensorFlow version 1.0 or newer'\n",
    "print('TensorFlow Version: {}'.format(tf.__version__))\n",
    "\n",
    "# Check for a GPU\n",
    "if not tf.test.gpu_device_name():\n",
    "    warnings.warn('No GPU found. Please use a GPU to train your neural network.')\n",
    "else:\n",
    "    print('Default GPU Device: {}'.format(tf.test.gpu_device_name()))"
   ]
  },
  {
   "cell_type": "markdown",
   "metadata": {},
   "source": [
    "### Input\n",
    "Implement the `get_inputs()` function to create TF Placeholders for the Neural Network.  It should create the following placeholders:\n",
    "- Input text placeholder named \"input\" using the [TF Placeholder](https://www.tensorflow.org/api_docs/python/tf/placeholder) `name` parameter.\n",
    "- Targets placeholder\n",
    "- Learning Rate placeholder\n",
    "\n",
    "Return the placeholders in the following tuple `(Input, Targets, LearningRate)`"
   ]
  },
  {
   "cell_type": "code",
   "execution_count": 8,
   "metadata": {},
   "outputs": [
    {
     "name": "stdout",
     "output_type": "stream",
     "text": [
      "Tests Passed\n"
     ]
    }
   ],
   "source": [
    "def get_inputs():\n",
    "    \"\"\"\n",
    "    Create TF Placeholders for input, targets, and learning rate.\n",
    "    :return: Tuple (input, targets, learning rate)\n",
    "    \"\"\"\n",
    "    # TODO: Implement Function\n",
    "    inputs = tf.placeholder(tf.int32, [None, None], name = 'input')\n",
    "    targets = tf.placeholder(tf.int32, [None, None], name = 'target')\n",
    "    learning_rate = tf.placeholder(tf.float32, name = 'learning_rate')\n",
    "    \n",
    "    return (inputs, targets, learning_rate)\n",
    "\n",
    "\n",
    "\"\"\"\n",
    "DON'T MODIFY ANYTHING IN THIS CELL THAT IS BELOW THIS LINE\n",
    "\"\"\"\n",
    "tests.test_get_inputs(get_inputs)"
   ]
  },
  {
   "cell_type": "markdown",
   "metadata": {},
   "source": [
    "### Build RNN Cell and Initialize\n",
    "Stack one or more [`BasicLSTMCells`](https://www.tensorflow.org/api_docs/python/tf/contrib/rnn/BasicLSTMCell) in a [`MultiRNNCell`](https://www.tensorflow.org/api_docs/python/tf/contrib/rnn/MultiRNNCell).\n",
    "- The Rnn size should be set using `rnn_size`\n",
    "- Initalize Cell State using the MultiRNNCell's [`zero_state()`](https://www.tensorflow.org/api_docs/python/tf/contrib/rnn/MultiRNNCell#zero_state) function\n",
    "    - Apply the name \"initial_state\" to the initial state using [`tf.identity()`](https://www.tensorflow.org/api_docs/python/tf/identity)\n",
    "\n",
    "Return the cell and initial state in the following tuple `(Cell, InitialState)`"
   ]
  },
  {
   "cell_type": "code",
   "execution_count": 9,
   "metadata": {},
   "outputs": [
    {
     "name": "stdout",
     "output_type": "stream",
     "text": [
      "Tests Passed\n"
     ]
    }
   ],
   "source": [
    "def get_init_cell(batch_size, rnn_size):\n",
    "    \"\"\"\n",
    "    Create an RNN Cell and initialize it.\n",
    "    :param batch_size: Size of batches\n",
    "    :param rnn_size: Size of RNNs\n",
    "    :return: Tuple (cell, initialize state)\n",
    "    \"\"\"\n",
    "    # TODO: Implement Function\n",
    "    lstm = tf.contrib.rnn.BasicLSTMCell(rnn_size)\n",
    "    \n",
    "    # Add dropout to the cell\n",
    "    drop = tf.contrib.rnn.DropoutWrapper(lstm, output_keep_prob = 0.5)\n",
    "    \n",
    "    # Stack up multiple LSTM laters, for deep learning\n",
    "    cell = tf.contrib.rnn.MultiRNNCell([drop] * 3)\n",
    "    \n",
    "    initial_state = cell.zero_state(batch_size, tf.float32)\n",
    "    initial_state = tf.identity(initial_state, name = 'initial_state')\n",
    "    \n",
    "    return (cell, initial_state)\n",
    "\n",
    "\n",
    "\"\"\"\n",
    "DON'T MODIFY ANYTHING IN THIS CELL THAT IS BELOW THIS LINE\n",
    "\"\"\"\n",
    "tests.test_get_init_cell(get_init_cell)"
   ]
  },
  {
   "cell_type": "markdown",
   "metadata": {},
   "source": [
    "### Word Embedding\n",
    "Apply embedding to `input_data` using TensorFlow.  Return the embedded sequence."
   ]
  },
  {
   "cell_type": "code",
   "execution_count": 10,
   "metadata": {},
   "outputs": [
    {
     "name": "stdout",
     "output_type": "stream",
     "text": [
      "Tests Passed\n"
     ]
    }
   ],
   "source": [
    "def get_embed(input_data, vocab_size, embed_dim):\n",
    "    \"\"\"\n",
    "    Create embedding for <input_data>.\n",
    "    :param input_data: TF placeholder for text input.\n",
    "    :param vocab_size: Number of words in vocabulary.\n",
    "    :param embed_dim: Number of embedding dimensions\n",
    "    :return: Embedded input.\n",
    "    \"\"\"\n",
    "    # TODO: Implement Function\n",
    "    embedding = tf.Variable(tf.random_uniform((vocab_size, embed_dim), -1, 1))\n",
    "    embed = tf.nn.embedding_lookup(embedding, input_data)\n",
    "    \n",
    "    return embed\n",
    "\n",
    "\n",
    "\"\"\"\n",
    "DON'T MODIFY ANYTHING IN THIS CELL THAT IS BELOW THIS LINE\n",
    "\"\"\"\n",
    "tests.test_get_embed(get_embed)"
   ]
  },
  {
   "cell_type": "markdown",
   "metadata": {},
   "source": [
    "### Build RNN\n",
    "You created a RNN Cell in the `get_init_cell()` function.  Time to use the cell to create a RNN.\n",
    "- Build the RNN using the [`tf.nn.dynamic_rnn()`](https://www.tensorflow.org/api_docs/python/tf/nn/dynamic_rnn)\n",
    " - Apply the name \"final_state\" to the final state using [`tf.identity()`](https://www.tensorflow.org/api_docs/python/tf/identity)\n",
    "\n",
    "Return the outputs and final_state state in the following tuple `(Outputs, FinalState)` "
   ]
  },
  {
   "cell_type": "code",
   "execution_count": 11,
   "metadata": {},
   "outputs": [
    {
     "name": "stdout",
     "output_type": "stream",
     "text": [
      "Tests Passed\n"
     ]
    }
   ],
   "source": [
    "def build_rnn(cell, inputs):\n",
    "    \"\"\"\n",
    "    Create a RNN using a RNN Cell\n",
    "    :param cell: RNN Cell\n",
    "    :param inputs: Input text data\n",
    "    :return: Tuple (Outputs, Final State)\n",
    "    \"\"\"\n",
    "    # TODO: Implement Function\n",
    "    outputs, final_state = tf.nn.dynamic_rnn(cell, inputs, dtype = tf.float32)\n",
    "    final_state = tf.identity(final_state, name = 'final_state')\n",
    "    \n",
    "    return (outputs, final_state)\n",
    "\n",
    "\n",
    "\"\"\"\n",
    "DON'T MODIFY ANYTHING IN THIS CELL THAT IS BELOW THIS LINE\n",
    "\"\"\"\n",
    "tests.test_build_rnn(build_rnn)"
   ]
  },
  {
   "cell_type": "markdown",
   "metadata": {},
   "source": [
    "### Build the Neural Network\n",
    "Apply the functions you implemented above to:\n",
    "- Apply embedding to `input_data` using your `get_embed(input_data, vocab_size, embed_dim)` function.\n",
    "- Build RNN using `cell` and your `build_rnn(cell, inputs)` function.\n",
    "- Apply a fully connected layer with a linear activation and `vocab_size` as the number of outputs.\n",
    "\n",
    "Return the logits and final state in the following tuple (Logits, FinalState) "
   ]
  },
  {
   "cell_type": "code",
   "execution_count": 12,
   "metadata": {},
   "outputs": [
    {
     "name": "stdout",
     "output_type": "stream",
     "text": [
      "Tests Passed\n"
     ]
    }
   ],
   "source": [
    "def build_nn(cell, rnn_size, input_data, vocab_size, embed_dim):\n",
    "    \"\"\"\n",
    "    Build part of the neural network\n",
    "    :param cell: RNN cell\n",
    "    :param rnn_size: Size of rnns\n",
    "    :param input_data: Input data\n",
    "    :param vocab_size: Vocabulary size\n",
    "    :param embed_dim: Number of embedding dimensions\n",
    "    :return: Tuple (Logits, FinalState)\n",
    "    \"\"\"\n",
    "    # TODO: Implement Function\n",
    "    inputs = get_embed(input_data, vocab_size, embed_dim)\n",
    "    outputs, final_state = build_rnn(cell, inputs)\n",
    "#     weights = tf.truncated_normal_initializer(stddev = 0.1)\n",
    "#     biases = tf.zeros_initializer()\n",
    "#     # activation_fn: Activation function. The default value is a ReLU function. Explicitly set it to None to skip it and maintain a linear activation.\n",
    "#     logits = tf.contrib.layers.fully_connected(outputs,\n",
    "#                                                vocab_size,\n",
    "#                                                weights_initializer = weights,\n",
    "#                                                biases_initializer = biases,\n",
    "#                                                activation_fn = None)\n",
    "    logits = tf.layers.dense(outputs, vocab_size, activation= None)\n",
    "\n",
    "    \n",
    "    return (logits, final_state)\n",
    "\n",
    "\n",
    "\"\"\"\n",
    "DON'T MODIFY ANYTHING IN THIS CELL THAT IS BELOW THIS LINE\n",
    "\"\"\"\n",
    "tests.test_build_nn(build_nn)"
   ]
  },
  {
   "cell_type": "markdown",
   "metadata": {},
   "source": [
    "### Batches\n",
    "Implement `get_batches` to create batches of input and targets using `int_text`.  The batches should be a Numpy array with the shape `(number of batches, 2, batch size, sequence length)`. Each batch contains two elements:\n",
    "- The first element is a single batch of **input** with the shape `[batch size, sequence length]`\n",
    "- The second element is a single batch of **targets** with the shape `[batch size, sequence length]`\n",
    "\n",
    "If you can't fill the last batch with enough data, drop the last batch.\n",
    "\n",
    "For example, `get_batches([1, 2, 3, 4, 5, 6, 7, 8, 9, 10, 11, 12, 13, 14, 15, 16, 17, 18, 19, 20], 3, 2)` would return a Numpy array of the following:\n",
    "```\n",
    "[\n",
    "  # First Batch\n",
    "  [\n",
    "    # Batch of Input\n",
    "    [[ 1  2], [ 7  8], [13 14]]\n",
    "    # Batch of targets\n",
    "    [[ 2  3], [ 8  9], [14 15]]\n",
    "  ]\n",
    "\n",
    "  # Second Batch\n",
    "  [\n",
    "    # Batch of Input\n",
    "    [[ 3  4], [ 9 10], [15 16]]\n",
    "    # Batch of targets\n",
    "    [[ 4  5], [10 11], [16 17]]\n",
    "  ]\n",
    "\n",
    "  # Third Batch\n",
    "  [\n",
    "    # Batch of Input\n",
    "    [[ 5  6], [11 12], [17 18]]\n",
    "    # Batch of targets\n",
    "    [[ 6  7], [12 13], [18  1]]\n",
    "  ]\n",
    "]\n",
    "```\n",
    "\n",
    "Notice that the last target value in the last batch is the first input value of the first batch. In this case, `1`. This is a common technique used when creating sequence batches, although it is rather unintuitive."
   ]
  },
  {
   "cell_type": "code",
   "execution_count": 13,
   "metadata": {},
   "outputs": [
    {
     "name": "stdout",
     "output_type": "stream",
     "text": [
      "Length of int_text is 5000\n",
      "Number of batches is  7.0\n",
      "Batch size is  128\n",
      "Sequence length is  5\n",
      "The shape of ret_batches is  (7, 2, 128, 5)\n",
      "The shape of first element in the batch is  (2, 128, 5)\n",
      "The shape of second element in the batch is  (2, 128, 5)\n",
      "Tests Passed\n"
     ]
    }
   ],
   "source": [
    "def get_batches(int_text, batch_size, seq_length):\n",
    "    \"\"\"\n",
    "    Return batches of input and target\n",
    "    :param int_text: Text with the words replaced by their ids\n",
    "    :param batch_size: The size of batch\n",
    "    :param seq_length: The length of sequence\n",
    "    :return: Batches as a Numpy array\n",
    "    \"\"\"\n",
    "    # TODO: Implement Function\n",
    "    # Calculate the number of batches\n",
    "    n_batches = np.floor(len(int_text)//(batch_size * seq_length))\n",
    "    print('Length of int_text is', len(int_text))\n",
    "    print('Number of batches is ', n_batches)\n",
    "    print('Batch size is ', batch_size)\n",
    "    print('Sequence length is ', seq_length)\n",
    "    \n",
    "    # Length of the int_text after dropping the last batch\n",
    "    len_total_word = int(n_batches * batch_size * seq_length)\n",
    "    \n",
    "    \n",
    "    # Truncated the given array\n",
    "    int_text = int_text[:len_total_word]\n",
    "#     print(int_text)\n",
    "    \n",
    "    x = np.array(int_text)\n",
    "    y = np.zeros_like(x)\n",
    "    y[:-1], y[-1] = x[1:], x[0]\n",
    "    \n",
    "    input_batches = x\n",
    "    target_batches = y\n",
    "    \n",
    "#     # Initial input and target batches with the enough characters to make full batches    \n",
    "#     input_batches = np.array(int_text)\n",
    "#     roll_int_text = np.roll(int_text, -1)\n",
    "#     target_batches = np.array(roll_int_text[:len_total_word]) # Shift 1 element to right for target\n",
    "    \n",
    "    # Reshape into batch_size rows\n",
    "    input_batches = input_batches.reshape(batch_size, -1)\n",
    "    target_batches = target_batches.reshape(batch_size, -1)\n",
    "    \n",
    "    # Split the word with calculated number of batches\n",
    "    input_batches = np.split(input_batches, n_batches, 1)\n",
    "    target_batches = np.split(target_batches, n_batches, 1)\n",
    "    \n",
    "    # Zip and pack into the list\n",
    "    list_batches = list(zip(input_batches, target_batches))\n",
    "#     print(list_batches[-1])\n",
    "    \n",
    "    \n",
    "    # Convert to Numpy array\n",
    "    ret_batches = np.array(list_batches)\n",
    "    print('The shape of ret_batches is ', ret_batches.shape)\n",
    "    \n",
    "    print('The shape of first element in the batch is ', ret_batches[0].shape)\n",
    "    print('The shape of second element in the batch is ', ret_batches[1].shape)\n",
    "    \n",
    "    \n",
    "#    n_batches = len(int_text) // (batch_size * seq_length)\n",
    "#     result = []\n",
    "#     for i in range(n_batches):\n",
    "#         inputs = []\n",
    "#         targets = []\n",
    "#         for j in range(batch_size):\n",
    "#             idx = i * seq_length + j * seq_length\n",
    "#             inputs.append(int_text[idx:idx + seq_length])\n",
    "#             targets.append(int_text[idx + 1:idx + seq_length + 1])\n",
    "#         result.append([inputs, targets])\n",
    "#     return np.array(result)\n",
    "    \n",
    "    \n",
    "    return ret_batches\n",
    "\n",
    "\n",
    "\"\"\"\n",
    "DON'T MODIFY ANYTHING IN THIS CELL THAT IS BELOW THIS LINE\n",
    "\"\"\"\n",
    "tests.test_get_batches(get_batches)"
   ]
  },
  {
   "cell_type": "markdown",
   "metadata": {},
   "source": [
    "## Neural Network Training\n",
    "### Hyperparameters\n",
    "Tune the following parameters:\n",
    "\n",
    "- Set `num_epochs` to the number of epochs.\n",
    "- Set `batch_size` to the batch size.\n",
    "- Set `rnn_size` to the size of the RNNs.\n",
    "- Set `embed_dim` to the size of the embedding.\n",
    "- Set `seq_length` to the length of sequence.\n",
    "- Set `learning_rate` to the learning rate.\n",
    "- Set `show_every_n_batches` to the number of batches the neural network should print progress."
   ]
  },
  {
   "cell_type": "code",
   "execution_count": 14,
   "metadata": {},
   "outputs": [],
   "source": [
    "# Number of Epochs\n",
    "num_epochs = 100\n",
    "# Batch Size\n",
    "batch_size = 128\n",
    "# RNN Size\n",
    "rnn_size = 512\n",
    "# Embedding Dimension Size\n",
    "embed_dim = 256\n",
    "# Sequence Length\n",
    "seq_length = 16\n",
    "# Learning Rate\n",
    "learning_rate = 0.001\n",
    "# Show stats for every n number of batches\n",
    "show_every_n_batches = 10\n",
    "\n",
    "\"\"\"\n",
    "DON'T MODIFY ANYTHING IN THIS CELL THAT IS BELOW THIS LINE\n",
    "\"\"\"\n",
    "save_dir = './save'"
   ]
  },
  {
   "cell_type": "markdown",
   "metadata": {},
   "source": [
    "### Build the Graph\n",
    "Build the graph using the neural network you implemented."
   ]
  },
  {
   "cell_type": "code",
   "execution_count": 15,
   "metadata": {},
   "outputs": [],
   "source": [
    "\"\"\"\n",
    "DON'T MODIFY ANYTHING IN THIS CELL\n",
    "\"\"\"\n",
    "from tensorflow.contrib import seq2seq\n",
    "\n",
    "train_graph = tf.Graph()\n",
    "with train_graph.as_default():\n",
    "    vocab_size = len(int_to_vocab)\n",
    "    input_text, targets, lr = get_inputs()\n",
    "    input_data_shape = tf.shape(input_text)\n",
    "    cell, initial_state = get_init_cell(input_data_shape[0], rnn_size)\n",
    "    logits, final_state = build_nn(cell, rnn_size, input_text, vocab_size, embed_dim)\n",
    "\n",
    "    # Probabilities for generating words\n",
    "    probs = tf.nn.softmax(logits, name='probs')\n",
    "\n",
    "    # Loss function\n",
    "    cost = seq2seq.sequence_loss(\n",
    "        logits,\n",
    "        targets,\n",
    "        tf.ones([input_data_shape[0], input_data_shape[1]]))\n",
    "\n",
    "    # Optimizer\n",
    "    optimizer = tf.train.AdamOptimizer(lr)\n",
    "\n",
    "    # Gradient Clipping\n",
    "    gradients = optimizer.compute_gradients(cost)\n",
    "    capped_gradients = [(tf.clip_by_value(grad, -1., 1.), var) for grad, var in gradients if grad is not None]\n",
    "    train_op = optimizer.apply_gradients(capped_gradients)"
   ]
  },
  {
   "cell_type": "markdown",
   "metadata": {},
   "source": [
    "## Train\n",
    "Train the neural network on the preprocessed data.  If you have a hard time getting a good loss, check the [forums](https://discussions.udacity.com/) to see if anyone is having the same problem."
   ]
  },
  {
   "cell_type": "code",
   "execution_count": 16,
   "metadata": {},
   "outputs": [],
   "source": [
    "import time"
   ]
  },
  {
   "cell_type": "code",
   "execution_count": 17,
   "metadata": {
    "scrolled": true
   },
   "outputs": [],
   "source": [
    "t0_train = time.time()"
   ]
  },
  {
   "cell_type": "code",
   "execution_count": 18,
   "metadata": {},
   "outputs": [
    {
     "name": "stdout",
     "output_type": "stream",
     "text": [
      "Length of int_text is 69100\n",
      "Number of batches is  33.0\n",
      "Batch size is  128\n",
      "Sequence length is  16\n",
      "The shape of ret_batches is  (33, 2, 128, 16)\n",
      "The shape of first element in the batch is  (2, 128, 16)\n",
      "The shape of second element in the batch is  (2, 128, 16)\n",
      "Epoch   0 Batch    0/33   train_loss = 8.822\n",
      "Epoch   0 Batch   10/33   train_loss = 6.560\n",
      "Epoch   0 Batch   20/33   train_loss = 6.495\n",
      "Epoch   0 Batch   30/33   train_loss = 6.472\n",
      "Epoch   1 Batch    7/33   train_loss = 6.214\n",
      "Epoch   1 Batch   17/33   train_loss = 6.183\n",
      "Epoch   1 Batch   27/33   train_loss = 6.237\n",
      "Epoch   2 Batch    4/33   train_loss = 6.073\n",
      "Epoch   2 Batch   14/33   train_loss = 6.235\n",
      "Epoch   2 Batch   24/33   train_loss = 6.122\n",
      "Epoch   3 Batch    1/33   train_loss = 6.002\n",
      "Epoch   3 Batch   11/33   train_loss = 5.977\n",
      "Epoch   3 Batch   21/33   train_loss = 6.183\n",
      "Epoch   3 Batch   31/33   train_loss = 6.078\n",
      "Epoch   4 Batch    8/33   train_loss = 6.080\n",
      "Epoch   4 Batch   18/33   train_loss = 6.087\n",
      "Epoch   4 Batch   28/33   train_loss = 6.061\n",
      "Epoch   5 Batch    5/33   train_loss = 6.123\n",
      "Epoch   5 Batch   15/33   train_loss = 6.001\n",
      "Epoch   5 Batch   25/33   train_loss = 6.035\n",
      "Epoch   6 Batch    2/33   train_loss = 5.849\n",
      "Epoch   6 Batch   12/33   train_loss = 5.961\n",
      "Epoch   6 Batch   22/33   train_loss = 6.011\n",
      "Epoch   6 Batch   32/33   train_loss = 6.041\n",
      "Epoch   7 Batch    9/33   train_loss = 5.836\n",
      "Epoch   7 Batch   19/33   train_loss = 5.889\n",
      "Epoch   7 Batch   29/33   train_loss = 5.875\n",
      "Epoch   8 Batch    6/33   train_loss = 5.828\n",
      "Epoch   8 Batch   16/33   train_loss = 5.814\n",
      "Epoch   8 Batch   26/33   train_loss = 5.790\n",
      "Epoch   9 Batch    3/33   train_loss = 5.736\n",
      "Epoch   9 Batch   13/33   train_loss = 5.816\n",
      "Epoch   9 Batch   23/33   train_loss = 5.816\n",
      "Epoch  10 Batch    0/33   train_loss = 5.696\n",
      "Epoch  10 Batch   10/33   train_loss = 5.864\n",
      "Epoch  10 Batch   20/33   train_loss = 5.737\n",
      "Epoch  10 Batch   30/33   train_loss = 5.695\n",
      "Epoch  11 Batch    7/33   train_loss = 5.762\n",
      "Epoch  11 Batch   17/33   train_loss = 5.723\n",
      "Epoch  11 Batch   27/33   train_loss = 5.731\n",
      "Epoch  12 Batch    4/33   train_loss = 5.596\n",
      "Epoch  12 Batch   14/33   train_loss = 5.753\n",
      "Epoch  12 Batch   24/33   train_loss = 5.627\n",
      "Epoch  13 Batch    1/33   train_loss = 5.456\n",
      "Epoch  13 Batch   11/33   train_loss = 5.441\n",
      "Epoch  13 Batch   21/33   train_loss = 5.691\n",
      "Epoch  13 Batch   31/33   train_loss = 5.556\n",
      "Epoch  14 Batch    8/33   train_loss = 5.573\n",
      "Epoch  14 Batch   18/33   train_loss = 5.526\n",
      "Epoch  14 Batch   28/33   train_loss = 5.525\n",
      "Epoch  15 Batch    5/33   train_loss = 5.579\n",
      "Epoch  15 Batch   15/33   train_loss = 5.397\n",
      "Epoch  15 Batch   25/33   train_loss = 5.397\n",
      "Epoch  16 Batch    2/33   train_loss = 5.248\n",
      "Epoch  16 Batch   12/33   train_loss = 5.377\n",
      "Epoch  16 Batch   22/33   train_loss = 5.392\n",
      "Epoch  16 Batch   32/33   train_loss = 5.399\n",
      "Epoch  17 Batch    9/33   train_loss = 5.185\n",
      "Epoch  17 Batch   19/33   train_loss = 5.167\n",
      "Epoch  17 Batch   29/33   train_loss = 5.174\n",
      "Epoch  18 Batch    6/33   train_loss = 5.115\n",
      "Epoch  18 Batch   16/33   train_loss = 5.071\n",
      "Epoch  18 Batch   26/33   train_loss = 5.073\n",
      "Epoch  19 Batch    3/33   train_loss = 4.973\n",
      "Epoch  19 Batch   13/33   train_loss = 5.073\n",
      "Epoch  19 Batch   23/33   train_loss = 5.098\n",
      "Epoch  20 Batch    0/33   train_loss = 4.930\n",
      "Epoch  20 Batch   10/33   train_loss = 5.057\n",
      "Epoch  20 Batch   20/33   train_loss = 4.940\n",
      "Epoch  20 Batch   30/33   train_loss = 4.958\n",
      "Epoch  21 Batch    7/33   train_loss = 4.940\n",
      "Epoch  21 Batch   17/33   train_loss = 4.925\n",
      "Epoch  21 Batch   27/33   train_loss = 4.955\n",
      "Epoch  22 Batch    4/33   train_loss = 4.785\n",
      "Epoch  22 Batch   14/33   train_loss = 4.879\n",
      "Epoch  22 Batch   24/33   train_loss = 4.823\n",
      "Epoch  23 Batch    1/33   train_loss = 4.594\n",
      "Epoch  23 Batch   11/33   train_loss = 4.616\n",
      "Epoch  23 Batch   21/33   train_loss = 4.831\n",
      "Epoch  23 Batch   31/33   train_loss = 4.734\n",
      "Epoch  24 Batch    8/33   train_loss = 4.712\n",
      "Epoch  24 Batch   18/33   train_loss = 4.738\n",
      "Epoch  24 Batch   28/33   train_loss = 4.745\n",
      "Epoch  25 Batch    5/33   train_loss = 4.740\n",
      "Epoch  25 Batch   15/33   train_loss = 4.641\n",
      "Epoch  25 Batch   25/33   train_loss = 4.655\n",
      "Epoch  26 Batch    2/33   train_loss = 4.506\n",
      "Epoch  26 Batch   12/33   train_loss = 4.650\n",
      "Epoch  26 Batch   22/33   train_loss = 4.670\n",
      "Epoch  26 Batch   32/33   train_loss = 4.667\n",
      "Epoch  27 Batch    9/33   train_loss = 4.492\n",
      "Epoch  27 Batch   19/33   train_loss = 4.496\n",
      "Epoch  27 Batch   29/33   train_loss = 4.532\n",
      "Epoch  28 Batch    6/33   train_loss = 4.454\n",
      "Epoch  28 Batch   16/33   train_loss = 4.454\n",
      "Epoch  28 Batch   26/33   train_loss = 4.466\n",
      "Epoch  29 Batch    3/33   train_loss = 4.325\n",
      "Epoch  29 Batch   13/33   train_loss = 4.489\n",
      "Epoch  29 Batch   23/33   train_loss = 4.519\n",
      "Epoch  30 Batch    0/33   train_loss = 4.367\n",
      "Epoch  30 Batch   10/33   train_loss = 4.484\n",
      "Epoch  30 Batch   20/33   train_loss = 4.391\n",
      "Epoch  30 Batch   30/33   train_loss = 4.413\n",
      "Epoch  31 Batch    7/33   train_loss = 4.408\n",
      "Epoch  31 Batch   17/33   train_loss = 4.397\n",
      "Epoch  31 Batch   27/33   train_loss = 4.452\n",
      "Epoch  32 Batch    4/33   train_loss = 4.247\n",
      "Epoch  32 Batch   14/33   train_loss = 4.400\n",
      "Epoch  32 Batch   24/33   train_loss = 4.338\n",
      "Epoch  33 Batch    1/33   train_loss = 4.093\n",
      "Epoch  33 Batch   11/33   train_loss = 4.149\n",
      "Epoch  33 Batch   21/33   train_loss = 4.302\n",
      "Epoch  33 Batch   31/33   train_loss = 4.245\n",
      "Epoch  34 Batch    8/33   train_loss = 4.192\n",
      "Epoch  34 Batch   18/33   train_loss = 4.223\n",
      "Epoch  34 Batch   28/33   train_loss = 4.270\n",
      "Epoch  35 Batch    5/33   train_loss = 4.256\n",
      "Epoch  35 Batch   15/33   train_loss = 4.128\n",
      "Epoch  35 Batch   25/33   train_loss = 4.164\n",
      "Epoch  36 Batch    2/33   train_loss = 4.072\n",
      "Epoch  36 Batch   12/33   train_loss = 4.163\n",
      "Epoch  36 Batch   22/33   train_loss = 4.210\n",
      "Epoch  36 Batch   32/33   train_loss = 4.196\n",
      "Epoch  37 Batch    9/33   train_loss = 4.074\n",
      "Epoch  37 Batch   19/33   train_loss = 4.050\n",
      "Epoch  37 Batch   29/33   train_loss = 4.083\n",
      "Epoch  38 Batch    6/33   train_loss = 4.042\n",
      "Epoch  38 Batch   16/33   train_loss = 4.045\n",
      "Epoch  38 Batch   26/33   train_loss = 4.009\n",
      "Epoch  39 Batch    3/33   train_loss = 3.945\n",
      "Epoch  39 Batch   13/33   train_loss = 4.077\n",
      "Epoch  39 Batch   23/33   train_loss = 4.023\n",
      "Epoch  40 Batch    0/33   train_loss = 3.939\n",
      "Epoch  40 Batch   10/33   train_loss = 4.050\n",
      "Epoch  40 Batch   20/33   train_loss = 3.966\n",
      "Epoch  40 Batch   30/33   train_loss = 4.021\n",
      "Epoch  41 Batch    7/33   train_loss = 3.984\n",
      "Epoch  41 Batch   17/33   train_loss = 4.005\n",
      "Epoch  41 Batch   27/33   train_loss = 4.044\n",
      "Epoch  42 Batch    4/33   train_loss = 3.851\n",
      "Epoch  42 Batch   14/33   train_loss = 3.958\n",
      "Epoch  42 Batch   24/33   train_loss = 3.966\n",
      "Epoch  43 Batch    1/33   train_loss = 3.741\n",
      "Epoch  43 Batch   11/33   train_loss = 3.833\n",
      "Epoch  43 Batch   21/33   train_loss = 3.912\n",
      "Epoch  43 Batch   31/33   train_loss = 3.853\n",
      "Epoch  44 Batch    8/33   train_loss = 3.834\n",
      "Epoch  44 Batch   18/33   train_loss = 3.857\n",
      "Epoch  44 Batch   28/33   train_loss = 3.868\n",
      "Epoch  45 Batch    5/33   train_loss = 3.859\n",
      "Epoch  45 Batch   15/33   train_loss = 3.788\n",
      "Epoch  45 Batch   25/33   train_loss = 3.801\n",
      "Epoch  46 Batch    2/33   train_loss = 3.694\n",
      "Epoch  46 Batch   12/33   train_loss = 3.809\n",
      "Epoch  46 Batch   22/33   train_loss = 3.787\n",
      "Epoch  46 Batch   32/33   train_loss = 3.814\n",
      "Epoch  47 Batch    9/33   train_loss = 3.664\n",
      "Epoch  47 Batch   19/33   train_loss = 3.672\n",
      "Epoch  47 Batch   29/33   train_loss = 3.687\n",
      "Epoch  48 Batch    6/33   train_loss = 3.635\n",
      "Epoch  48 Batch   16/33   train_loss = 3.652\n",
      "Epoch  48 Batch   26/33   train_loss = 3.634\n",
      "Epoch  49 Batch    3/33   train_loss = 3.559\n",
      "Epoch  49 Batch   13/33   train_loss = 3.696\n",
      "Epoch  49 Batch   23/33   train_loss = 3.672\n",
      "Epoch  50 Batch    0/33   train_loss = 3.598\n",
      "Epoch  50 Batch   10/33   train_loss = 3.653\n",
      "Epoch  50 Batch   20/33   train_loss = 3.613\n",
      "Epoch  50 Batch   30/33   train_loss = 3.664\n",
      "Epoch  51 Batch    7/33   train_loss = 3.601\n",
      "Epoch  51 Batch   17/33   train_loss = 3.611\n",
      "Epoch  51 Batch   27/33   train_loss = 3.674\n",
      "Epoch  52 Batch    4/33   train_loss = 3.502\n",
      "Epoch  52 Batch   14/33   train_loss = 3.599\n",
      "Epoch  52 Batch   24/33   train_loss = 3.580\n",
      "Epoch  53 Batch    1/33   train_loss = 3.379\n",
      "Epoch  53 Batch   11/33   train_loss = 3.469\n"
     ]
    },
    {
     "name": "stdout",
     "output_type": "stream",
     "text": [
      "Epoch  53 Batch   21/33   train_loss = 3.555\n",
      "Epoch  53 Batch   31/33   train_loss = 3.538\n",
      "Epoch  54 Batch    8/33   train_loss = 3.470\n",
      "Epoch  54 Batch   18/33   train_loss = 3.527\n",
      "Epoch  54 Batch   28/33   train_loss = 3.583\n",
      "Epoch  55 Batch    5/33   train_loss = 3.511\n",
      "Epoch  55 Batch   15/33   train_loss = 3.466\n",
      "Epoch  55 Batch   25/33   train_loss = 3.497\n",
      "Epoch  56 Batch    2/33   train_loss = 3.418\n",
      "Epoch  56 Batch   12/33   train_loss = 3.513\n",
      "Epoch  56 Batch   22/33   train_loss = 3.457\n",
      "Epoch  56 Batch   32/33   train_loss = 3.504\n",
      "Epoch  57 Batch    9/33   train_loss = 3.398\n",
      "Epoch  57 Batch   19/33   train_loss = 3.431\n",
      "Epoch  57 Batch   29/33   train_loss = 3.481\n",
      "Epoch  58 Batch    6/33   train_loss = 3.487\n",
      "Epoch  58 Batch   16/33   train_loss = 3.469\n",
      "Epoch  58 Batch   26/33   train_loss = 3.470\n",
      "Epoch  59 Batch    3/33   train_loss = 3.359\n",
      "Epoch  59 Batch   13/33   train_loss = 3.433\n",
      "Epoch  59 Batch   23/33   train_loss = 3.377\n",
      "Epoch  60 Batch    0/33   train_loss = 3.335\n",
      "Epoch  60 Batch   10/33   train_loss = 3.392\n",
      "Epoch  60 Batch   20/33   train_loss = 3.335\n",
      "Epoch  60 Batch   30/33   train_loss = 3.361\n",
      "Epoch  61 Batch    7/33   train_loss = 3.331\n",
      "Epoch  61 Batch   17/33   train_loss = 3.363\n",
      "Epoch  61 Batch   27/33   train_loss = 3.349\n",
      "Epoch  62 Batch    4/33   train_loss = 3.213\n",
      "Epoch  62 Batch   14/33   train_loss = 3.250\n",
      "Epoch  62 Batch   24/33   train_loss = 3.291\n",
      "Epoch  63 Batch    1/33   train_loss = 3.112\n",
      "Epoch  63 Batch   11/33   train_loss = 3.207\n",
      "Epoch  63 Batch   21/33   train_loss = 3.259\n",
      "Epoch  63 Batch   31/33   train_loss = 3.200\n",
      "Epoch  64 Batch    8/33   train_loss = 3.186\n",
      "Epoch  64 Batch   18/33   train_loss = 3.172\n",
      "Epoch  64 Batch   28/33   train_loss = 3.260\n",
      "Epoch  65 Batch    5/33   train_loss = 3.239\n",
      "Epoch  65 Batch   15/33   train_loss = 3.202\n",
      "Epoch  65 Batch   25/33   train_loss = 3.176\n",
      "Epoch  66 Batch    2/33   train_loss = 3.074\n",
      "Epoch  66 Batch   12/33   train_loss = 3.196\n",
      "Epoch  66 Batch   22/33   train_loss = 3.182\n",
      "Epoch  66 Batch   32/33   train_loss = 3.230\n",
      "Epoch  67 Batch    9/33   train_loss = 3.119\n",
      "Epoch  67 Batch   19/33   train_loss = 3.064\n",
      "Epoch  67 Batch   29/33   train_loss = 3.104\n",
      "Epoch  68 Batch    6/33   train_loss = 3.100\n",
      "Epoch  68 Batch   16/33   train_loss = 3.143\n",
      "Epoch  68 Batch   26/33   train_loss = 3.168\n",
      "Epoch  69 Batch    3/33   train_loss = 3.143\n",
      "Epoch  69 Batch   13/33   train_loss = 3.196\n",
      "Epoch  69 Batch   23/33   train_loss = 3.101\n",
      "Epoch  70 Batch    0/33   train_loss = 3.110\n",
      "Epoch  70 Batch   10/33   train_loss = 3.151\n",
      "Epoch  70 Batch   20/33   train_loss = 3.164\n",
      "Epoch  70 Batch   30/33   train_loss = 3.229\n",
      "Epoch  71 Batch    7/33   train_loss = 3.174\n",
      "Epoch  71 Batch   17/33   train_loss = 3.162\n",
      "Epoch  71 Batch   27/33   train_loss = 3.162\n",
      "Epoch  72 Batch    4/33   train_loss = 3.005\n",
      "Epoch  72 Batch   14/33   train_loss = 3.075\n",
      "Epoch  72 Batch   24/33   train_loss = 3.098\n",
      "Epoch  73 Batch    1/33   train_loss = 2.962\n",
      "Epoch  73 Batch   11/33   train_loss = 2.982\n",
      "Epoch  73 Batch   21/33   train_loss = 3.022\n",
      "Epoch  73 Batch   31/33   train_loss = 2.949\n",
      "Epoch  74 Batch    8/33   train_loss = 2.931\n",
      "Epoch  74 Batch   18/33   train_loss = 2.964\n",
      "Epoch  74 Batch   28/33   train_loss = 3.003\n",
      "Epoch  75 Batch    5/33   train_loss = 3.017\n",
      "Epoch  75 Batch   15/33   train_loss = 2.919\n",
      "Epoch  75 Batch   25/33   train_loss = 2.927\n",
      "Epoch  76 Batch    2/33   train_loss = 2.861\n",
      "Epoch  76 Batch   12/33   train_loss = 2.924\n",
      "Epoch  76 Batch   22/33   train_loss = 2.875\n",
      "Epoch  76 Batch   32/33   train_loss = 2.892\n",
      "Epoch  77 Batch    9/33   train_loss = 2.877\n",
      "Epoch  77 Batch   19/33   train_loss = 2.819\n",
      "Epoch  77 Batch   29/33   train_loss = 2.841\n",
      "Epoch  78 Batch    6/33   train_loss = 2.832\n",
      "Epoch  78 Batch   16/33   train_loss = 2.849\n",
      "Epoch  78 Batch   26/33   train_loss = 2.820\n",
      "Epoch  79 Batch    3/33   train_loss = 2.767\n",
      "Epoch  79 Batch   13/33   train_loss = 2.860\n",
      "Epoch  79 Batch   23/33   train_loss = 2.844\n",
      "Epoch  80 Batch    0/33   train_loss = 2.812\n",
      "Epoch  80 Batch   10/33   train_loss = 2.824\n",
      "Epoch  80 Batch   20/33   train_loss = 2.783\n",
      "Epoch  80 Batch   30/33   train_loss = 2.825\n",
      "Epoch  81 Batch    7/33   train_loss = 2.790\n",
      "Epoch  81 Batch   17/33   train_loss = 2.847\n",
      "Epoch  81 Batch   27/33   train_loss = 2.831\n",
      "Epoch  82 Batch    4/33   train_loss = 2.725\n",
      "Epoch  82 Batch   14/33   train_loss = 2.753\n",
      "Epoch  82 Batch   24/33   train_loss = 2.749\n",
      "Epoch  83 Batch    1/33   train_loss = 2.650\n",
      "Epoch  83 Batch   11/33   train_loss = 2.680\n",
      "Epoch  83 Batch   21/33   train_loss = 2.715\n",
      "Epoch  83 Batch   31/33   train_loss = 2.705\n",
      "Epoch  84 Batch    8/33   train_loss = 2.659\n",
      "Epoch  84 Batch   18/33   train_loss = 2.704\n",
      "Epoch  84 Batch   28/33   train_loss = 2.704\n",
      "Epoch  85 Batch    5/33   train_loss = 2.746\n",
      "Epoch  85 Batch   15/33   train_loss = 2.703\n",
      "Epoch  85 Batch   25/33   train_loss = 2.673\n",
      "Epoch  86 Batch    2/33   train_loss = 2.622\n",
      "Epoch  86 Batch   12/33   train_loss = 2.655\n",
      "Epoch  86 Batch   22/33   train_loss = 2.636\n",
      "Epoch  86 Batch   32/33   train_loss = 2.627\n",
      "Epoch  87 Batch    9/33   train_loss = 2.644\n",
      "Epoch  87 Batch   19/33   train_loss = 2.566\n",
      "Epoch  87 Batch   29/33   train_loss = 2.581\n",
      "Epoch  88 Batch    6/33   train_loss = 2.597\n",
      "Epoch  88 Batch   16/33   train_loss = 2.618\n",
      "Epoch  88 Batch   26/33   train_loss = 2.668\n",
      "Epoch  89 Batch    3/33   train_loss = 2.657\n",
      "Epoch  89 Batch   13/33   train_loss = 2.703\n",
      "Epoch  89 Batch   23/33   train_loss = 2.641\n",
      "Epoch  90 Batch    0/33   train_loss = 2.622\n",
      "Epoch  90 Batch   10/33   train_loss = 2.646\n",
      "Epoch  90 Batch   20/33   train_loss = 2.618\n",
      "Epoch  90 Batch   30/33   train_loss = 2.682\n",
      "Epoch  91 Batch    7/33   train_loss = 2.639\n",
      "Epoch  91 Batch   17/33   train_loss = 2.695\n",
      "Epoch  91 Batch   27/33   train_loss = 2.683\n",
      "Epoch  92 Batch    4/33   train_loss = 2.538\n",
      "Epoch  92 Batch   14/33   train_loss = 2.544\n",
      "Epoch  92 Batch   24/33   train_loss = 2.578\n",
      "Epoch  93 Batch    1/33   train_loss = 2.470\n",
      "Epoch  93 Batch   11/33   train_loss = 2.481\n",
      "Epoch  93 Batch   21/33   train_loss = 2.541\n",
      "Epoch  93 Batch   31/33   train_loss = 2.539\n",
      "Epoch  94 Batch    8/33   train_loss = 2.539\n",
      "Epoch  94 Batch   18/33   train_loss = 2.543\n",
      "Epoch  94 Batch   28/33   train_loss = 2.533\n",
      "Epoch  95 Batch    5/33   train_loss = 2.526\n",
      "Epoch  95 Batch   15/33   train_loss = 2.483\n",
      "Epoch  95 Batch   25/33   train_loss = 2.491\n",
      "Epoch  96 Batch    2/33   train_loss = 2.455\n",
      "Epoch  96 Batch   12/33   train_loss = 2.490\n",
      "Epoch  96 Batch   22/33   train_loss = 2.418\n",
      "Epoch  96 Batch   32/33   train_loss = 2.419\n",
      "Epoch  97 Batch    9/33   train_loss = 2.427\n",
      "Epoch  97 Batch   19/33   train_loss = 2.328\n",
      "Epoch  97 Batch   29/33   train_loss = 2.335\n",
      "Epoch  98 Batch    6/33   train_loss = 2.370\n",
      "Epoch  98 Batch   16/33   train_loss = 2.355\n",
      "Epoch  98 Batch   26/33   train_loss = 2.348\n",
      "Epoch  99 Batch    3/33   train_loss = 2.304\n",
      "Epoch  99 Batch   13/33   train_loss = 2.404\n",
      "Epoch  99 Batch   23/33   train_loss = 2.354\n",
      "Model Trained and Saved\n"
     ]
    }
   ],
   "source": [
    "\"\"\"\n",
    "DON'T MODIFY ANYTHING IN THIS CELL\n",
    "\"\"\"\n",
    "batches = get_batches(int_text, batch_size, seq_length)\n",
    "\n",
    "with tf.Session(graph=train_graph) as sess:\n",
    "    sess.run(tf.global_variables_initializer())\n",
    "\n",
    "    for epoch_i in range(num_epochs):\n",
    "        state = sess.run(initial_state, {input_text: batches[0][0]})\n",
    "\n",
    "        for batch_i, (x, y) in enumerate(batches):\n",
    "            feed = {\n",
    "                input_text: x,\n",
    "                targets: y,\n",
    "                initial_state: state,\n",
    "                lr: learning_rate}\n",
    "            train_loss, state, _ = sess.run([cost, final_state, train_op], feed)\n",
    "\n",
    "            # Show every <show_every_n_batches> batches\n",
    "            if (epoch_i * len(batches) + batch_i) % show_every_n_batches == 0:\n",
    "                print('Epoch {:>3} Batch {:>4}/{}   train_loss = {:.3f}'.format(\n",
    "                    epoch_i,\n",
    "                    batch_i,\n",
    "                    len(batches),\n",
    "                    train_loss))\n",
    "\n",
    "    # Save Model\n",
    "    saver = tf.train.Saver()\n",
    "    saver.save(sess, save_dir)\n",
    "    print('Model Trained and Saved')"
   ]
  },
  {
   "cell_type": "code",
   "execution_count": 19,
   "metadata": {},
   "outputs": [
    {
     "name": "stdout",
     "output_type": "stream",
     "text": [
      "8603.382199048996 Seconds to train the nural network.\n"
     ]
    }
   ],
   "source": [
    "t1_train = time.time()\n",
    "\n",
    "print(t1_train - t0_train, 'Seconds to train the nural network.')"
   ]
  },
  {
   "cell_type": "markdown",
   "metadata": {},
   "source": [
    "## Save Parameters\n",
    "Save `seq_length` and `save_dir` for generating a new TV script."
   ]
  },
  {
   "cell_type": "code",
   "execution_count": 20,
   "metadata": {},
   "outputs": [],
   "source": [
    "\"\"\"\n",
    "DON'T MODIFY ANYTHING IN THIS CELL\n",
    "\"\"\"\n",
    "# Save parameters for checkpoint\n",
    "helper.save_params((seq_length, save_dir))"
   ]
  },
  {
   "cell_type": "markdown",
   "metadata": {},
   "source": [
    "# Checkpoint"
   ]
  },
  {
   "cell_type": "code",
   "execution_count": 21,
   "metadata": {},
   "outputs": [],
   "source": [
    "\"\"\"\n",
    "DON'T MODIFY ANYTHING IN THIS CELL\n",
    "\"\"\"\n",
    "import tensorflow as tf\n",
    "import numpy as np\n",
    "import helper\n",
    "import problem_unittests as tests\n",
    "\n",
    "_, vocab_to_int, int_to_vocab, token_dict = helper.load_preprocess()\n",
    "seq_length, load_dir = helper.load_params()"
   ]
  },
  {
   "cell_type": "markdown",
   "metadata": {},
   "source": [
    "## Implement Generate Functions\n",
    "### Get Tensors\n",
    "Get tensors from `loaded_graph` using the function [`get_tensor_by_name()`](https://www.tensorflow.org/api_docs/python/tf/Graph#get_tensor_by_name).  Get the tensors using the following names:\n",
    "- \"input:0\"\n",
    "- \"initial_state:0\"\n",
    "- \"final_state:0\"\n",
    "- \"probs:0\"\n",
    "\n",
    "Return the tensors in the following tuple `(InputTensor, InitialStateTensor, FinalStateTensor, ProbsTensor)` "
   ]
  },
  {
   "cell_type": "code",
   "execution_count": 22,
   "metadata": {},
   "outputs": [
    {
     "name": "stdout",
     "output_type": "stream",
     "text": [
      "Tests Passed\n"
     ]
    }
   ],
   "source": [
    "def get_tensors(loaded_graph):\n",
    "    \"\"\"\n",
    "    Get input, initial state, final state, and probabilities tensor from <loaded_graph>\n",
    "    :param loaded_graph: TensorFlow graph loaded from file\n",
    "    :return: Tuple (InputTensor, InitialStateTensor, FinalStateTensor, ProbsTensor)\n",
    "    \"\"\"\n",
    "    # TODO: Implement Function\n",
    "    InputTensor = loaded_graph.get_tensor_by_name('input:0')\n",
    "    InitialStateTensor = loaded_graph.get_tensor_by_name('initial_state:0')\n",
    "    FinalStateTensor = loaded_graph.get_tensor_by_name('final_state:0')\n",
    "    ProbsTensor = loaded_graph.get_tensor_by_name('probs:0')\n",
    "    \n",
    "    return (InputTensor, InitialStateTensor, FinalStateTensor, ProbsTensor)\n",
    "\n",
    "\n",
    "\"\"\"\n",
    "DON'T MODIFY ANYTHING IN THIS CELL THAT IS BELOW THIS LINE\n",
    "\"\"\"\n",
    "tests.test_get_tensors(get_tensors)"
   ]
  },
  {
   "cell_type": "markdown",
   "metadata": {},
   "source": [
    "### Choose Word\n",
    "Implement the `pick_word()` function to select the next word using `probabilities`."
   ]
  },
  {
   "cell_type": "code",
   "execution_count": 24,
   "metadata": {},
   "outputs": [
    {
     "name": "stdout",
     "output_type": "stream",
     "text": [
      "Tests Passed\n"
     ]
    }
   ],
   "source": [
    "def pick_word(probabilities, int_to_vocab):\n",
    "    \"\"\"\n",
    "    Pick the next word in the generated text\n",
    "    :param probabilities: Probabilites of the next word\n",
    "    :param int_to_vocab: Dictionary of word ids as the keys and words as the values\n",
    "    :return: String of the predicted word\n",
    "    \"\"\"\n",
    "    # TODO: Implement Function\n",
    "    idx_next_word = np.argmax(probabilities)\n",
    "    next_word = int_to_vocab[idx_next_word]\n",
    "    \n",
    "    return next_word\n",
    "\n",
    "\n",
    "\"\"\"\n",
    "DON'T MODIFY ANYTHING IN THIS CELL THAT IS BELOW THIS LINE\n",
    "\"\"\"\n",
    "tests.test_pick_word(pick_word)"
   ]
  },
  {
   "cell_type": "markdown",
   "metadata": {},
   "source": [
    "## Generate TV Script\n",
    "This will generate the TV script for you.  Set `gen_length` to the length of TV script you want to generate."
   ]
  },
  {
   "cell_type": "code",
   "execution_count": 25,
   "metadata": {},
   "outputs": [
    {
     "name": "stdout",
     "output_type": "stream",
     "text": [
      "moe_szyslak: hey, hey, hey, you got the lot of sex-- i got me too happen?\n",
      "homer_simpson:(laughing) i don't know you to don't the money that awesome.\n",
      "moe_szyslak:(excited) unlike all the manager?(whining) yeah, moe, the love of a bad thing. it was like a delightfully poulet au lodge?\n",
      "moe_szyslak: yeah, that's the worst thing that, homer. you got a multi-national job? i got a plan.(hammy noise)\n",
      "moe_szyslak: you know me? there, homer. i'm firing to be a job? i got a lot of sex in a darkest girl?\n",
      "moe_szyslak: don't be a crunch, celeste. you got for the way and the tremendous that a english thing it was?\n",
      "moe_szyslak: oh, you know, i got be else worse me. and you just got a\" fix his life.\n",
      "homer_simpson:(to himself) no, you just know that works?\n",
      "moe_szyslak: oh, you got so one way on the wheel man.\n",
      "\n"
     ]
    }
   ],
   "source": [
    "gen_length = 200\n",
    "# homer_simpson, moe_szyslak, or Barney_Gumble\n",
    "prime_word = 'moe_szyslak'\n",
    "\n",
    "\"\"\"\n",
    "DON'T MODIFY ANYTHING IN THIS CELL THAT IS BELOW THIS LINE\n",
    "\"\"\"\n",
    "loaded_graph = tf.Graph()\n",
    "with tf.Session(graph=loaded_graph) as sess:\n",
    "    # Load saved model\n",
    "    loader = tf.train.import_meta_graph(load_dir + '.meta')\n",
    "    loader.restore(sess, load_dir)\n",
    "\n",
    "    # Get Tensors from loaded model\n",
    "    input_text, initial_state, final_state, probs = get_tensors(loaded_graph)\n",
    "\n",
    "    # Sentences generation setup\n",
    "    gen_sentences = [prime_word + ':']\n",
    "    prev_state = sess.run(initial_state, {input_text: np.array([[1]])})\n",
    "\n",
    "    # Generate sentences\n",
    "    for n in range(gen_length):\n",
    "        # Dynamic Input\n",
    "        dyn_input = [[vocab_to_int[word] for word in gen_sentences[-seq_length:]]]\n",
    "        dyn_seq_length = len(dyn_input[0])\n",
    "\n",
    "        # Get Prediction\n",
    "        probabilities, prev_state = sess.run(\n",
    "            [probs, final_state],\n",
    "            {input_text: dyn_input, initial_state: prev_state})\n",
    "        \n",
    "        pred_word = pick_word(probabilities[dyn_seq_length-1], int_to_vocab)\n",
    "\n",
    "        gen_sentences.append(pred_word)\n",
    "    \n",
    "    # Remove tokens\n",
    "    tv_script = ' '.join(gen_sentences)\n",
    "    for key, token in token_dict.items():\n",
    "        ending = ' ' if key in ['\\n', '(', '\"'] else ''\n",
    "        tv_script = tv_script.replace(' ' + token.lower(), key)\n",
    "    tv_script = tv_script.replace('\\n ', '\\n')\n",
    "    tv_script = tv_script.replace('( ', '(')\n",
    "        \n",
    "    print(tv_script)"
   ]
  },
  {
   "cell_type": "markdown",
   "metadata": {},
   "source": [
    "# The TV Script is Nonsensical\n",
    "It's ok if the TV script doesn't make any sense.  We trained on less than a megabyte of text.  In order to get good results, you'll have to use a smaller vocabulary or get more data.  Luckily there's more data!  As we mentioned in the beggining of this project, this is a subset of [another dataset](https://www.kaggle.com/wcukierski/the-simpsons-by-the-data).  We didn't have you train on all the data, because that would take too long.  However, you are free to train your neural network on all the data.  After you complete the project, of course.\n",
    "# Submitting This Project\n",
    "When submitting this project, make sure to run all the cells before saving the notebook. Save the notebook file as \"dlnd_tv_script_generation.ipynb\" and save it as a HTML file under \"File\" -> \"Download as\". Include the \"helper.py\" and \"problem_unittests.py\" files in your submission."
   ]
  }
 ],
 "metadata": {
  "kernelspec": {
   "display_name": "Python 3",
   "language": "python",
   "name": "python3"
  },
  "language_info": {
   "codemirror_mode": {
    "name": "ipython",
    "version": 3
   },
   "file_extension": ".py",
   "mimetype": "text/x-python",
   "name": "python",
   "nbconvert_exporter": "python",
   "pygments_lexer": "ipython3",
   "version": "3.5.2"
  },
  "widgets": {
   "state": {},
   "version": "1.1.2"
  }
 },
 "nbformat": 4,
 "nbformat_minor": 1
}
